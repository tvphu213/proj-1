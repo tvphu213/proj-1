{
 "cells": [
  {
   "cell_type": "markdown",
   "metadata": {},
   "source": [
    "# 120 years of Olympic history: athletes and results\n",
    "#### This project analyzes SportsStats data to find trends and patterns by group or sport or by country. \n",
    "2 target audience groups:\n",
    "- Local news sites who can then aggregate and provide new perspectives and analysis for readers.\n",
    "- Professional coaches who can consult and develop training programs for their athletes.\n",
    "#### Dataset URL\n",
    "https://www.kaggle.com/datasets/heesoo37/120-years-of-olympic-history-athletes-and-results\n",
    "#### 1. Questions we will find in this project?\n",
    "- Top 5 country got the most medals.\n",
    "- Top 10 sports that bring the most medals.\n",
    "- Average age of those 5 sports based on medalists\n",
    "- What are the strengths of each of the above sport according to the top 10 countries with the most medals?\n",
    "- Top 10 athletes with the most medals in history and medal distribution.\n",
    "- Youngest/oldest athlete ever to win an Olympic medal.\n",
    "- Average BMI of the 2 groups of athletes (with and without medals) by year.\n",
    "\n",
    "#### 2. Hypothesis\n",
    "1. The age group from 18 to 25 has almost the same number of medals as the total number of medals of all other age groups\n",
    "2. Body Mass Index Affects Athletes' Performance\n",
    "\n",
    "#### 3. Approach\n",
    "##### Hypothesis 1:\n",
    "- Delete rows with null age data.\n",
    "- Calculate the total number of medals of the age group 18 to 25 and the total number of medals of the remaining age groups. Compare the numbers and percentages between the two groups.\n",
    "\n",
    "##### Hypothesis 2:\n",
    "- Calculate the BMI of all athletes, insert BMI field to dataframe.\n",
    "- Compare the average BMI across the group of athletes with and without medals according to the content of the competition, find out the difference between the 2 groups and the pattern of success if any\n"
   ]
  },
  {
   "cell_type": "markdown",
   "metadata": {},
   "source": [
    "![Olympic](image/olympic.webp)"
   ]
  },
  {
   "cell_type": "markdown",
   "metadata": {},
   "source": [
    "#### 1. Data import and preprocess"
   ]
  },
  {
   "cell_type": "markdown",
   "metadata": {},
   "source": [
    "In the Score table we have 271116 rows and 15 columns. The table contains personal details about the athletes, as well as their achievements"
   ]
  },
  {
   "cell_type": "markdown",
   "metadata": {},
   "source": [
    "In the Noc table we have 230 rows and 3 columns. The table contains information about the locations of the Olympics."
   ]
  },
  {
   "cell_type": "markdown",
   "metadata": {},
   "source": [
    "### 2.Questions"
   ]
  },
  {
   "cell_type": "markdown",
   "metadata": {},
   "source": [
    "#### Top 5 countries by total Medals"
   ]
  },
  {
   "cell_type": "markdown",
   "metadata": {},
   "source": [
    "![top 5 country](image/top5country.png) "
   ]
  },
  {
   "cell_type": "markdown",
   "metadata": {},
   "source": [
    "In the 120-year Olympic history (until 2016), the United States has won the most medals, followed by Russia, Germany, UK, and France."
   ]
  },
  {
   "cell_type": "markdown",
   "metadata": {},
   "source": [
    "#### Top 10 medal sports over years insight "
   ]
  },
  {
   "cell_type": "markdown",
   "metadata": {},
   "source": [
    "![top 10 medal sports](image/top10medalsports.png)"
   ]
  },
  {
   "cell_type": "markdown",
   "metadata": {},
   "source": [
    "The table contains information about the sports with the most medal sets, the year of the most recent Olympic appearance, the year it was first held, and the total number of times it was held. \n",
    "\n",
    "It is easy to see that traditional Olympic sports such as athletics, swimming, gymnastics are held regularly and have the most medal sets"
   ]
  },
  {
   "cell_type": "markdown",
   "metadata": {},
   "source": [
    "![floor 10 sports](image/floor10medalsports.png) "
   ]
  },
  {
   "cell_type": "markdown",
   "metadata": {},
   "source": [
    "In the opposite direction we see some subjects only held 1 or 2 times in the past and are no longer organized such as Basque Pelota"
   ]
  },
  {
   "cell_type": "markdown",
   "metadata": {},
   "source": [
    "![Basque Pelota](image/2013_basque_pelota_world_cup_-_paleta_cuero_-_france_vs_spain_12.webp) "
   ]
  },
  {
   "cell_type": "markdown",
   "metadata": {},
   "source": [
    "\"Pelota is one of the most popular sports in the Basque Country, it’s the common name for a variety of ball games played against a wall, called a fronton. Similar to a combination of squash and handball, it can be played using your hand, racket or wooden bat. Pelota is a fast-moving game that you can play one-on-one, in partners or in a team.\"\n",
    "\n",
    "https://theculturetrip.com/europe/spain/articles/a-brief-introduction-to-pelota-bilbaos-sport-youve-never-heard-of/"
   ]
  },
  {
   "cell_type": "markdown",
   "metadata": {},
   "source": [
    "#### Ratio of male and female athletes participating in the olympics over the years"
   ]
  },
  {
   "cell_type": "markdown",
   "metadata": {},
   "source": [
    "![ratio of male - female](image/ratiomalefemale.png) "
   ]
  },
  {
   "cell_type": "markdown",
   "metadata": {},
   "source": [
    "The percentage of female participating in and winning medals has increased gradually over the Olympics, and is now roughly equal to that of male."
   ]
  },
  {
   "cell_type": "markdown",
   "metadata": {},
   "source": [
    "#### Average of age on sports which have the most medal"
   ]
  },
  {
   "cell_type": "markdown",
   "metadata": {},
   "source": [
    "![average age have medals](image/averageage.png) "
   ]
  },
  {
   "cell_type": "markdown",
   "metadata": {},
   "source": [
    "The average age of participating in the olympics of swimming is the lowest, while fencing requires experience, so the average age is quite high (over 29 years old)"
   ]
  },
  {
   "cell_type": "markdown",
   "metadata": {},
   "source": [
    "#### Youngest/oldest athlete ever to win an Olympic medal"
   ]
  },
  {
   "cell_type": "markdown",
   "metadata": {},
   "source": [
    "![youngest oldest](image/youngestoldest.png) "
   ]
  },
  {
   "cell_type": "markdown",
   "metadata": {},
   "source": [
    "![Louis Noverraz](image/1972-with-66-years-still-a-great-champion-louis-noverraz-is-european-F5MRTD.jpg) "
   ]
  },
  {
   "cell_type": "markdown",
   "metadata": {},
   "source": [
    "Louis Neverrraz (Switzerland) is the oldest athlete ever to win a medal at the Olympics. He won a silver medal in Sailing in 1968 at the age of 66"
   ]
  },
  {
   "cell_type": "markdown",
   "metadata": {},
   "source": [
    "And Kim Yun-Mi (South Korea) is one of the youngest athletes ever to win a medal at the Olympics (13 years old)."
   ]
  },
  {
   "cell_type": "markdown",
   "metadata": {},
   "source": [
    "![Kim Yun-Mi](image/kim%20yun%20min.webp) "
   ]
  },
  {
   "cell_type": "markdown",
   "metadata": {},
   "source": [
    "#### Top 10 athletes with the most medals in history."
   ]
  },
  {
   "cell_type": "markdown",
   "metadata": {},
   "source": [
    "![top 10 athletes](image/top10athetes.png) "
   ]
  },
  {
   "cell_type": "markdown",
   "metadata": {},
   "source": [
    "![michael-phelps](image/michael-phelps.jpg)\n"
   ]
  },
  {
   "cell_type": "markdown",
   "metadata": {},
   "source": [
    "Michael Fred Phelps II is an American former competitive swimmer. He is the most successful and most decorated Olympian of all time with a total of 28 medals. Phelps also holds the all-time records for Olympic gold medals, Olympic gold medals in individual events, and Olympic medals in individual events. [Wikipedia]"
   ]
  },
  {
   "cell_type": "markdown",
   "metadata": {},
   "source": [
    "#### Medals Distribution Of Top 10 greatest Athletes."
   ]
  },
  {
   "cell_type": "markdown",
   "metadata": {},
   "source": [
    "![medal distribution of top 10](image/medaldistributiontop10.png) "
   ]
  },
  {
   "cell_type": "markdown",
   "metadata": {},
   "source": [
    "#### The strengths of each of the above sport according to the top 10 countries with the most medals"
   ]
  },
  {
   "cell_type": "markdown",
   "metadata": {},
   "source": [
    "![strength by country](image/strengthbycountry.png) "
   ]
  },
  {
   "cell_type": "markdown",
   "metadata": {},
   "source": [
    "It can be seen that the US has strengths in athletics and swimming. Meanwhile Russia leads in gymnastics achievements. Germany excels at Rowing and for Canada it's Ice Hockey"
   ]
  },
  {
   "cell_type": "markdown",
   "metadata": {},
   "source": [
    "#### 3. Hypothesis"
   ]
  },
  {
   "cell_type": "markdown",
   "metadata": {},
   "source": [
    "#### Hypothesis 1: The age group from 18 to 25 has almost the same number of medals as the total number of medals of all other age groups"
   ]
  },
  {
   "cell_type": "markdown",
   "metadata": {},
   "source": [
    "Scores by athlete with age from 18 to 25"
   ]
  },
  {
   "cell_type": "markdown",
   "metadata": {},
   "source": [
    "![18 to 25 age medals](image/18t025medal.png) "
   ]
  },
  {
   "cell_type": "markdown",
   "metadata": {},
   "source": [
    "Scores by athlete with age from remain age group"
   ]
  },
  {
   "cell_type": "markdown",
   "metadata": {},
   "source": [
    "![remain age medals](image/remainage.png) "
   ]
  },
  {
   "cell_type": "markdown",
   "metadata": {},
   "source": [
    "There are a total of 15853 athletes between the ages of 18 and 25, and 14319 athletes from the remaining age group have ever won medals. \n",
    "\n",
    "So the initial hypothesis was correct."
   ]
  },
  {
   "cell_type": "markdown",
   "metadata": {},
   "source": [
    "#### Hypothesis 2: Body Mass Index Affects Athletes' Performance"
   ]
  },
  {
   "cell_type": "markdown",
   "metadata": {},
   "source": [
    "![ratio BMI category](image/ratiobmi.png)"
   ]
  },
  {
   "cell_type": "markdown",
   "metadata": {},
   "source": [
    "It is easy to see that the percentage of athletes with a healthy BMI is 78% and this is understandable"
   ]
  },
  {
   "cell_type": "markdown",
   "metadata": {},
   "source": [
    "![medal distribute by BMI category](image/ratiobmibymedalclassify.png)"
   ]
  },
  {
   "cell_type": "markdown",
   "metadata": {},
   "source": [
    "Despite the majority, the percentage of athletes with a healthy BMI who won medals was not higher than other BMI categories. Thus, it can be concluded that BMI does not have much effect on athletes' medal winning rate. So hypothesis 2 is wrong."
   ]
  }
 ],
 "metadata": {
  "kernelspec": {
   "display_name": "Python 3.10.6 ('env': venv)",
   "language": "python",
   "name": "python3"
  },
  "language_info": {
   "codemirror_mode": {
    "name": "ipython",
    "version": 3
   },
   "file_extension": ".py",
   "mimetype": "text/x-python",
   "name": "python",
   "nbconvert_exporter": "python",
   "pygments_lexer": "ipython3",
   "version": "3.10.6"
  },
  "orig_nbformat": 4,
  "vscode": {
   "interpreter": {
    "hash": "41b3615fd8ab155efdaef5652882a5f9400d802b1f27b15419e63d27054ec85c"
   }
  }
 },
 "nbformat": 4,
 "nbformat_minor": 2
}
